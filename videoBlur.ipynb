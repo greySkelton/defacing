{
 "cells": [
  {
   "cell_type": "code",
   "execution_count": 1,
   "id": "b1a61522",
   "metadata": {},
   "outputs": [],
   "source": [
    "import numpy as np\n",
    "import cv2\n",
    "import matplotlib.pyplot as plt\n",
    "\n",
    "#thid function can be called to display images. Useful tool\n",
    "def plotImages(img):\n",
    "    plt.imshow(img, cmap=\"gray\")\n",
    "    plt.axis('off')\n",
    "    plt.style.use('seaborn')\n",
    "    plt.show()"
   ]
  },
  {
   "cell_type": "code",
   "execution_count": 2,
   "id": "a72ded5e",
   "metadata": {},
   "outputs": [],
   "source": [
    "#this function inputs an image, detects a face, and outputs the image with a blurred face\n",
    "def averageBlur(image):\n",
    "\n",
    "    # convert BGR image into RGB image\n",
    "    image = cv2.cvtColor(image, cv2.COLOR_BGR2RGB)\n",
    "\n",
    "    \n",
    "    face_detect = cv2.CascadeClassifier('haarcascade_frontalface_default.xml')\n",
    "    face_data = face_detect.detectMultiScale(image, 1.3, 5)\n",
    "\n",
    "    # Draw rectangle around the faces which is our region of interest (ROI)\n",
    "    for (x, y, w, h) in face_data:\n",
    "        cv2.rectangle(image, (x, y-30), (x + w, y + h+30), (0, 255, 0), 2)\n",
    "        roi = image[y:y+h, x:x+w]\n",
    "        # applying a blur over this new rectangle area\n",
    "        roi = cv2.blur(roi, (81, 81), 30)\n",
    "        # impose this blurred image on original image to get final image\n",
    "        image[y:y+roi.shape[0], x:x+roi.shape[1]] = roi\n",
    "    return image"
   ]
  },
  {
   "cell_type": "code",
   "execution_count": 11,
   "id": "1cf09752",
   "metadata": {
    "scrolled": false
   },
   "outputs": [],
   "source": [
    "\n",
    "#STILL IN PROGRESS\n",
    "#This code should break a video into frame and blur each frame. \n",
    "#Main problem is that it turns mp4 videos into a series of bluish pictures\n",
    "vidInFilePath = '/Users/greyskelton/Documents/Emory/Motion Lab/tevita.mp4'\n",
    "vidcap = cv2.VideoCapture(vidInFilePath)\n",
    "vidInName = vidInFilePath.split(\"/\")[-1][0:-4]\n",
    "success,image = vidcap.read()\n",
    "count = 0\n",
    "dimensions = image.shape\n",
    "height = dimensions[0]\n",
    "width = dimensions[1]\n",
    "while count<20:\n",
    "    success,image = vidcap.read() #image is a single frame\n",
    "    image = averageBlur(image)\n",
    "    cv2.imwrite(\"/Users/greyskelton/Documents/Emory/Motion Lab/FrameFolder/\"+vidInName+\"%d.jpg\" % count, image)     # save frame as JPEG file\n",
    "    count += 1\n",
    "\n",
    "fourcc = cv2.VideoWriter_fourcc(*'mp4v') \n",
    "video = cv2.VideoWriter('blurred.avi', fourcc, 1, (width, height))\n",
    "\n",
    "\n",
    "    \n",
    "    "
   ]
  },
  {
   "cell_type": "code",
   "execution_count": 23,
   "id": "8c994f78",
   "metadata": {},
   "outputs": [],
   "source": [
    "\n",
    "#IN PROGRESS\n",
    "#This code compile a series of images into a video.\n",
    "image_list=[]\n",
    "count = 0\n",
    "\n",
    "imagex = cv2.imread(\"/Users/greyskelton/Documents/Emory/Motion Lab/FrameFolder/tevita0.jpg\")\n",
    "height,width,layers=imagex.shape\n",
    "video = cv2.VideoWriter('blurred.avi', fourcc, 1, (width, height))\n",
    "\n",
    "while count<20:\n",
    "    imagex = cv2.imread(\"/Users/greyskelton/Documents/Emory/Motion Lab/FrameFolder/tevita\"+\"%d.jpg\" % count)\n",
    "    video.write(imagex)\n",
    "    count += 1\n",
    "    \n",
    "cv2.destroyAllWindows()\n",
    "video.release()\n"
   ]
  },
  {
   "cell_type": "code",
   "execution_count": null,
   "id": "a0647367",
   "metadata": {},
   "outputs": [],
   "source": []
  },
  {
   "cell_type": "code",
   "execution_count": null,
   "id": "5f743a93",
   "metadata": {},
   "outputs": [],
   "source": []
  },
  {
   "cell_type": "code",
   "execution_count": null,
   "id": "41f42879",
   "metadata": {},
   "outputs": [],
   "source": []
  },
  {
   "cell_type": "code",
   "execution_count": 4,
   "id": "625ee48f",
   "metadata": {},
   "outputs": [],
   "source": []
  },
  {
   "cell_type": "code",
   "execution_count": null,
   "id": "8865cde1",
   "metadata": {},
   "outputs": [],
   "source": []
  },
  {
   "cell_type": "code",
   "execution_count": null,
   "id": "0096c2af",
   "metadata": {},
   "outputs": [],
   "source": []
  }
 ],
 "metadata": {
  "kernelspec": {
   "display_name": "Python 3",
   "language": "python",
   "name": "python3"
  },
  "language_info": {
   "codemirror_mode": {
    "name": "ipython",
    "version": 3
   },
   "file_extension": ".py",
   "mimetype": "text/x-python",
   "name": "python",
   "nbconvert_exporter": "python",
   "pygments_lexer": "ipython3",
   "version": "3.7.10"
  }
 },
 "nbformat": 4,
 "nbformat_minor": 5
}
